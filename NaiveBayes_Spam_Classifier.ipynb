{
  "nbformat": 4,
  "nbformat_minor": 0,
  "metadata": {
    "colab": {
      "provenance": [],
      "authorship_tag": "ABX9TyNyY5zSFqOyN2t+ndDv49mL",
      "include_colab_link": true
    },
    "kernelspec": {
      "name": "python3",
      "display_name": "Python 3"
    },
    "language_info": {
      "name": "python"
    }
  },
  "cells": [
    {
      "cell_type": "markdown",
      "metadata": {
        "id": "view-in-github",
        "colab_type": "text"
      },
      "source": [
        "<a href=\"https://colab.research.google.com/github/Sayed-Hossein-Hosseini/NaiveBayes_Spam_Classifier/blob/master/NaiveBayes_Spam_Classifier.ipynb\" target=\"_parent\"><img src=\"https://colab.research.google.com/assets/colab-badge.svg\" alt=\"Open In Colab\"/></a>"
      ]
    },
    {
      "cell_type": "markdown",
      "source": [
        "# **NaiveBayes Spam Classifier**"
      ],
      "metadata": {
        "id": "lyGldwtmJkJG"
      }
    },
    {
      "cell_type": "markdown",
      "source": [
        "## **Libraries**"
      ],
      "metadata": {
        "id": "Q_UHzTupJ7jJ"
      }
    },
    {
      "cell_type": "code",
      "execution_count": 1,
      "metadata": {
        "id": "ty_VjzN0Jh_3"
      },
      "outputs": [],
      "source": [
        "import pandas as pd\n",
        "import string\n",
        "import math\n",
        "from collections import defaultdict"
      ]
    },
    {
      "cell_type": "markdown",
      "source": [
        "## **Load Dataset**"
      ],
      "metadata": {
        "id": "Ig1oLJt5ZGS7"
      }
    },
    {
      "cell_type": "code",
      "source": [
        "# Load dataset\n",
        "df = pd.read_csv('spam_ham_dataset.csv')"
      ],
      "metadata": {
        "id": "4yx_JW0DZGii"
      },
      "execution_count": 2,
      "outputs": []
    },
    {
      "cell_type": "markdown",
      "source": [
        "## **Preprocessing Function**"
      ],
      "metadata": {
        "id": "kHDloLqVZgh6"
      }
    },
    {
      "cell_type": "code",
      "source": [
        "# Preprocessing function\n",
        "def preprocess_text(text):\n",
        "    text = text.lower()\n",
        "    text = text.translate(str.maketrans('', '', string.punctuation))\n",
        "    words = text.split()\n",
        "    return words"
      ],
      "metadata": {
        "id": "4pFIsFfcZgwF"
      },
      "execution_count": 3,
      "outputs": []
    },
    {
      "cell_type": "markdown",
      "source": [
        "## **Apply Preprocessing**"
      ],
      "metadata": {
        "id": "vrduGGFzZ4Rr"
      }
    },
    {
      "cell_type": "code",
      "source": [
        "# Apply preprocessing\n",
        "df['clean_text'] = df['text'].apply(preprocess_text)"
      ],
      "metadata": {
        "id": "BBLpx6NfZ4ah"
      },
      "execution_count": 4,
      "outputs": []
    },
    {
      "cell_type": "markdown",
      "source": [
        "## **Split Train / Test**"
      ],
      "metadata": {
        "id": "9oMbfwDVaVwi"
      }
    },
    {
      "cell_type": "code",
      "source": [
        "# Split dataset manually (80% train - 20% test)\n",
        "train_size = int(0.8 * len(df))\n",
        "train_df = df[:train_size]\n",
        "test_df = df[train_size:]"
      ],
      "metadata": {
        "id": "c4r4uTalaV21"
      },
      "execution_count": 5,
      "outputs": []
    },
    {
      "cell_type": "markdown",
      "source": [
        "## **Initialize Data Structures**"
      ],
      "metadata": {
        "id": "T6GwGYFAasr7"
      }
    },
    {
      "cell_type": "code",
      "source": [
        "# Initialize data structures\n",
        "vocab = set()\n",
        "word_counts_spam = defaultdict(int)\n",
        "word_counts_ham = defaultdict(int)\n",
        "spam_docs = 0\n",
        "ham_docs = 0\n",
        "total_words_spam = 0\n",
        "total_words_ham = 0"
      ],
      "metadata": {
        "id": "4ftMoiIfas0y"
      },
      "execution_count": 6,
      "outputs": []
    },
    {
      "cell_type": "markdown",
      "source": [
        "## **Build Vocabulary and count Word Frequencies**"
      ],
      "metadata": {
        "id": "r36kCCRrbBry"
      }
    },
    {
      "cell_type": "code",
      "source": [
        "# Build vocabulary and count word frequencies\n",
        "for index, row in train_df.iterrows():\n",
        "    label = row['label']\n",
        "    words = row['clean_text']\n",
        "    if label == 'spam':\n",
        "        spam_docs += 1\n",
        "        for word in words:\n",
        "            vocab.add(word)\n",
        "            word_counts_spam[word] += 1\n",
        "            total_words_spam += 1\n",
        "    else:\n",
        "        ham_docs += 1\n",
        "        for word in words:\n",
        "            vocab.add(word)\n",
        "            word_counts_ham[word] += 1\n",
        "            total_words_ham += 1"
      ],
      "metadata": {
        "id": "yJ3KKX1FbB30"
      },
      "execution_count": 7,
      "outputs": []
    },
    {
      "cell_type": "markdown",
      "source": [
        "## **Compute Prior Probabilities**"
      ],
      "metadata": {
        "id": "SWFbs6_qbaRC"
      }
    },
    {
      "cell_type": "code",
      "source": [
        "# Compute prior probabilities\n",
        "P_spam = spam_docs / len(train_df)\n",
        "P_ham = ham_docs / len(train_df)"
      ],
      "metadata": {
        "id": "YdpSykntbae-"
      },
      "execution_count": 8,
      "outputs": []
    },
    {
      "cell_type": "markdown",
      "source": [
        "## **Compute Conditional Probabilities with Laplace Smoothing**"
      ],
      "metadata": {
        "id": "8oNU5F2ncYxE"
      }
    },
    {
      "cell_type": "code",
      "source": [
        "# Compute conditional probabilities with Laplace smoothing\n",
        "def word_prob(word, label):\n",
        "    if label == 'spam':\n",
        "        return (word_counts_spam[word] + 1) / (total_words_spam + len(vocab))\n",
        "    else:\n",
        "        return (word_counts_ham[word] + 1) / (total_words_ham + len(vocab))"
      ],
      "metadata": {
        "id": "KS5caShlcY3B"
      },
      "execution_count": 9,
      "outputs": []
    },
    {
      "cell_type": "markdown",
      "source": [
        "## **Naive Bayes Classifier**"
      ],
      "metadata": {
        "id": "0GGA2-SGcrWM"
      }
    },
    {
      "cell_type": "code",
      "source": [
        "# Naive Bayes classifier\n",
        "def predict(email_words):\n",
        "    # Initialize log probabilities\n",
        "    log_prob_spam = math.log(P_spam)\n",
        "    log_prob_ham = math.log(P_ham)\n",
        "\n",
        "    for word in email_words:\n",
        "        if word in vocab:\n",
        "            log_prob_spam += math.log(word_prob(word, 'spam'))\n",
        "            log_prob_ham += math.log(word_prob(word, 'ham'))\n",
        "    # Compare log probabilities\n",
        "    if log_prob_spam > log_prob_ham:\n",
        "        return 1  # spam\n",
        "    else:\n",
        "        return 0  # ham"
      ],
      "metadata": {
        "id": "8SlFT1Wecrc8"
      },
      "execution_count": 10,
      "outputs": []
    },
    {
      "cell_type": "markdown",
      "source": [
        "## **Test the Model**"
      ],
      "metadata": {
        "id": "0UROFv3Wc667"
      }
    },
    {
      "cell_type": "code",
      "source": [
        "# Test the model\n",
        "y_true = []\n",
        "y_pred = []\n",
        "\n",
        "for index, row in test_df.iterrows():\n",
        "    label_num = row['label_num']\n",
        "    words = row['clean_text']\n",
        "    prediction = predict(words)\n",
        "\n",
        "    y_true.append(label_num)\n",
        "    y_pred.append(prediction)"
      ],
      "metadata": {
        "id": "NeTus883c6_f"
      },
      "execution_count": 11,
      "outputs": []
    },
    {
      "cell_type": "markdown",
      "source": [
        "## **Evaluate Accuracy**"
      ],
      "metadata": {
        "id": "xTp08TkNdRJT"
      }
    },
    {
      "cell_type": "code",
      "source": [
        "# Evaluate accuracy\n",
        "correct = sum([1 if y_true[i] == y_pred[i] else 0 for i in range(len(y_true))])\n",
        "accuracy = correct / len(y_true)\n",
        "\n",
        "print(f\"Accuracy (from scratch Naive Bayes): {accuracy * 100:.2f}%\")"
      ],
      "metadata": {
        "colab": {
          "base_uri": "https://localhost:8080/"
        },
        "id": "G5ntVXV4dRhC",
        "outputId": "bb4362c5-9b56-4113-d8b6-c9a191062705"
      },
      "execution_count": 12,
      "outputs": [
        {
          "output_type": "stream",
          "name": "stdout",
          "text": [
            "Accuracy (from scratch Naive Bayes): 98.26%\n"
          ]
        }
      ]
    }
  ]
}