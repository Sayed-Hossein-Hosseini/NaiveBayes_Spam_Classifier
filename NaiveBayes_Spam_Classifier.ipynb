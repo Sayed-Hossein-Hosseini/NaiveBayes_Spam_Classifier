{
  "nbformat": 4,
  "nbformat_minor": 0,
  "metadata": {
    "colab": {
      "provenance": [],
      "authorship_tag": "ABX9TyOY6yhbjDZOO2Tvntcssl4c",
      "include_colab_link": true
    },
    "kernelspec": {
      "name": "python3",
      "display_name": "Python 3"
    },
    "language_info": {
      "name": "python"
    }
  },
  "cells": [
    {
      "cell_type": "markdown",
      "metadata": {
        "id": "view-in-github",
        "colab_type": "text"
      },
      "source": [
        "<a href=\"https://colab.research.google.com/github/Sayed-Hossein-Hosseini/NaiveBayes_Spam_Classifier/blob/master/NaiveBayes_Spam_Classifier.ipynb\" target=\"_parent\"><img src=\"https://colab.research.google.com/assets/colab-badge.svg\" alt=\"Open In Colab\"/></a>"
      ]
    },
    {
      "cell_type": "markdown",
      "source": [
        "# **NaiveBayes Spam Classifier**"
      ],
      "metadata": {
        "id": "lyGldwtmJkJG"
      }
    },
    {
      "cell_type": "markdown",
      "source": [
        "## **Libraries**"
      ],
      "metadata": {
        "id": "Q_UHzTupJ7jJ"
      }
    },
    {
      "cell_type": "code",
      "execution_count": 1,
      "metadata": {
        "id": "ty_VjzN0Jh_3"
      },
      "outputs": [],
      "source": [
        "import pandas as pd\n",
        "import string\n",
        "import math\n",
        "from collections import defaultdict"
      ]
    },
    {
      "cell_type": "markdown",
      "source": [
        "## **Load Dataset**"
      ],
      "metadata": {
        "id": "Ig1oLJt5ZGS7"
      }
    },
    {
      "cell_type": "code",
      "source": [
        "# Load dataset\n",
        "df = pd.read_csv('spam_ham_dataset.csv')"
      ],
      "metadata": {
        "id": "4yx_JW0DZGii"
      },
      "execution_count": 2,
      "outputs": []
    },
    {
      "cell_type": "markdown",
      "source": [
        "## **Preprocessing Function**"
      ],
      "metadata": {
        "id": "kHDloLqVZgh6"
      }
    },
    {
      "cell_type": "code",
      "source": [
        "# Preprocessing function\n",
        "def preprocess_text(text):\n",
        "    text = text.lower()\n",
        "    text = text.translate(str.maketrans('', '', string.punctuation))\n",
        "    words = text.split()\n",
        "    return words"
      ],
      "metadata": {
        "id": "4pFIsFfcZgwF"
      },
      "execution_count": 3,
      "outputs": []
    },
    {
      "cell_type": "markdown",
      "source": [
        "## **Apply Preprocessing**"
      ],
      "metadata": {
        "id": "vrduGGFzZ4Rr"
      }
    },
    {
      "cell_type": "code",
      "source": [
        "# Apply preprocessing\n",
        "df['clean_text'] = df['text'].apply(preprocess_text)"
      ],
      "metadata": {
        "id": "BBLpx6NfZ4ah"
      },
      "execution_count": 4,
      "outputs": []
    },
    {
      "cell_type": "markdown",
      "source": [
        "## **Split Train / Test**"
      ],
      "metadata": {
        "id": "9oMbfwDVaVwi"
      }
    },
    {
      "cell_type": "code",
      "source": [
        "# Split dataset manually (80% train - 20% test)\n",
        "train_size = int(0.8 * len(df))\n",
        "train_df = df[:train_size]\n",
        "test_df = df[train_size:]"
      ],
      "metadata": {
        "id": "c4r4uTalaV21"
      },
      "execution_count": 5,
      "outputs": []
    },
    {
      "cell_type": "markdown",
      "source": [
        "## **Initialize Data Structures**"
      ],
      "metadata": {
        "id": "T6GwGYFAasr7"
      }
    },
    {
      "cell_type": "code",
      "source": [
        "# Initialize data structures\n",
        "vocab = set()\n",
        "word_counts_spam = defaultdict(int)\n",
        "word_counts_ham = defaultdict(int)\n",
        "spam_docs = 0\n",
        "ham_docs = 0\n",
        "total_words_spam = 0\n",
        "total_words_ham = 0"
      ],
      "metadata": {
        "id": "4ftMoiIfas0y"
      },
      "execution_count": 6,
      "outputs": []
    },
    {
      "cell_type": "markdown",
      "source": [
        "## **Build Vocabulary and count Word Frequencies**"
      ],
      "metadata": {
        "id": "r36kCCRrbBry"
      }
    },
    {
      "cell_type": "code",
      "source": [
        "# Build vocabulary and count word frequencies\n",
        "for index, row in train_df.iterrows():\n",
        "    label = row['label']\n",
        "    words = row['clean_text']\n",
        "    if label == 'spam':\n",
        "        spam_docs += 1\n",
        "        for word in words:\n",
        "            vocab.add(word)\n",
        "            word_counts_spam[word] += 1\n",
        "            total_words_spam += 1\n",
        "    else:\n",
        "        ham_docs += 1\n",
        "        for word in words:\n",
        "            vocab.add(word)\n",
        "            word_counts_ham[word] += 1\n",
        "            total_words_ham += 1"
      ],
      "metadata": {
        "id": "yJ3KKX1FbB30"
      },
      "execution_count": 7,
      "outputs": []
    }
  ]
}